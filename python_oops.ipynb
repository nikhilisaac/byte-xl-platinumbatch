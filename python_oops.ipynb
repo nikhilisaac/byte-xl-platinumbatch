{
  "nbformat": 4,
  "nbformat_minor": 0,
  "metadata": {
    "colab": {
      "provenance": [],
      "authorship_tag": "ABX9TyMFrebx4nz/Uyth7qV397i/",
      "include_colab_link": true
    },
    "kernelspec": {
      "name": "python3",
      "display_name": "Python 3"
    },
    "language_info": {
      "name": "python"
    }
  },
  "cells": [
    {
      "cell_type": "markdown",
      "metadata": {
        "id": "view-in-github",
        "colab_type": "text"
      },
      "source": [
        "<a href=\"https://colab.research.google.com/github/nikhilisaac/byte-xl-platinumbatch/blob/main/python_oops.ipynb\" target=\"_parent\"><img src=\"https://colab.research.google.com/assets/colab-badge.svg\" alt=\"Open In Colab\"/></a>"
      ]
    },
    {
      "cell_type": "code",
      "execution_count": null,
      "metadata": {
        "id": "ltHuTCrPyL33"
      },
      "outputs": [],
      "source": [
        "class test:\n",
        "  def __init__(self):\n",
        "    self.x=0;\n",
        "class derived_test(test):\n",
        "  def __init__(self):\n",
        "    self.y=0;\n",
        "def main():\n",
        "  b=derived_test()\n",
        "  print(b.x,b.y)\n",
        "main()\n",
        "\n",
        "\n",
        "\"\"\"\n",
        "the above program wil show an error as the derived class ony inherits all the functions of the parent class bt \n",
        "the variables are initiated ony when the cnstructor for the particular classs is called\n",
        "\"\"\""
      ]
    },
    {
      "cell_type": "markdown",
      "source": [],
      "metadata": {
        "id": "zULxwjYK6v9o"
      }
    },
    {
      "cell_type": "code",
      "source": [
        "\"\"\"\n",
        "member types and syntax\n",
        "self.x    public member \n",
        "self._x   protected member\n",
        "self.__x  private member\n",
        "\"\"\"\n",
        "class A:\n",
        "  def __init__(self,x=3):\n",
        "    self._x=x;\n"
      ],
      "metadata": {
        "id": "2XKXfjTu56vB"
      },
      "execution_count": null,
      "outputs": []
    },
    {
      "cell_type": "code",
      "source": [
        "class cat:\n",
        "  def __init__(self,name,age):\n",
        "    self.name=name\n",
        "    self.age=age\n",
        "  def info(self):\n",
        "    print(\"I am a cat. my name is\", self.name,\" I am \",self.age,\" years old\")\n",
        "  def make_sound(self):\n",
        "      print(\"Meow\")\n",
        "class dog:\n",
        "  def __init__(self,name,age):\n",
        "    self.name=name\n",
        "    self.age=age\n",
        "  def info(self):\n",
        "    print(\"I am a dog. my name is \",self.name,\" I am \",self.age,\" years old\")\n",
        "  def make_sound(self):\n",
        "    print(\"Bark\")\n",
        "cat1=cat(\"kitty\",2.5)\n",
        "dog1=dog('Fluffy',4)\n",
        "for animal in(cat1,dog1):\n",
        "  animal.make_sound()\n",
        "  animal.info()\n"
      ],
      "metadata": {
        "colab": {
          "base_uri": "https://localhost:8080/"
        },
        "id": "LH1t6DYjzPPj",
        "outputId": "3b45b5e1-aafd-4aea-8603-6e64d5df5330"
      },
      "execution_count": 10,
      "outputs": [
        {
          "output_type": "stream",
          "name": "stdout",
          "text": [
            "Meow\n",
            "I am a cat. my name is kitty  I am  2.5  years old\n",
            "Bark\n",
            "I am a dog. my name is  Fluffy  I am  4  years old\n"
          ]
        }
      ]
    },
    {
      "cell_type": "code",
      "source": [
        "#operator overloading\n",
        "class Test:\n",
        "  def __init__(self,arg1,arg2):\n",
        "    self.n1=arg1\n",
        "    self.n2=arg2\n",
        "  def __add__(self,other):\n",
        "    return self.n1+self.n2\n",
        "  def __sub__(self,other):\n",
        "    return self.n2-self.n1\n",
        "obj1=Test(12,34)\n",
        "obj2=Test(11,22)\n",
        "print(obj1+obj2)\n",
        "print(obj1-obj2)\n",
        "\n"
      ],
      "metadata": {
        "colab": {
          "base_uri": "https://localhost:8080/"
        },
        "id": "AZzMABSf-1G4",
        "outputId": "690c19e4-ed90-4f84-ebfe-ac87c47ab508"
      },
      "execution_count": 12,
      "outputs": [
        {
          "output_type": "stream",
          "name": "stdout",
          "text": [
            "46\n",
            "22\n"
          ]
        }
      ]
    },
    {
      "cell_type": "code",
      "source": [
        "#method overloading\n",
        "class commtest:\n",
        "  def comment(self):\n",
        "    print(\"hello\")\n",
        "  def comment(self, txtC):\n",
        "    print(txtC)\n",
        "  def comment(self,str1,str2):\n",
        "    print(str1+str2)\n",
        "t=commtest()\n",
        "t.comment('hi',' fuck off')\n",
        "\n",
        "\n",
        "\n",
        "\"\"\"if you have multiple methods named the same the compiler only considers the last defined method\n",
        " for eg in this case it will consider the one with three arguments\n",
        " method overloading works in non interpreted langages like cpp\"\"\""
      ],
      "metadata": {
        "colab": {
          "base_uri": "https://localhost:8080/"
        },
        "id": "hJF_OyvyCo6X",
        "outputId": "717c5cfd-61b8-4f9a-a959-001836ee2872"
      },
      "execution_count": 16,
      "outputs": [
        {
          "output_type": "stream",
          "name": "stdout",
          "text": [
            "hi fuck off\n"
          ]
        }
      ]
    },
    {
      "cell_type": "code",
      "source": [
        "\"\"\"another way of kind of getting method overloadng is to get the default values defined as NONE\"\"\"\n",
        "class commtest:\n",
        "  def comment(self,str1=None,str2=None):\n",
        "    if str1!=None and str2!=None:\n",
        "      print(str1+str2)\n",
        "    elif str1!=None:\n",
        "      print(str1)\n",
        "t=commtest()\n",
        "t.comment('hi',' whatsup biaatch')\n",
        "t.comment(\"testing\")\n",
        "\n"
      ],
      "metadata": {
        "colab": {
          "base_uri": "https://localhost:8080/"
        },
        "id": "UT2zMvlBFEC_",
        "outputId": "94f5a2d0-1694-4c4b-eaba-839f177f5caa"
      },
      "execution_count": 20,
      "outputs": [
        {
          "output_type": "stream",
          "name": "stdout",
          "text": [
            "hi whatsup biaatch\n",
            "testing\n"
          ]
        }
      ]
    },
    {
      "cell_type": "code",
      "source": [],
      "metadata": {
        "id": "CKuri2OCJ8Au"
      },
      "execution_count": null,
      "outputs": []
    }
  ]
}