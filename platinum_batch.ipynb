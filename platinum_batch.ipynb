{
  "nbformat": 4,
  "nbformat_minor": 0,
  "metadata": {
    "colab": {
      "name": "platinum_batch.ipynb",
      "provenance": [],
      "collapsed_sections": [],
      "toc_visible": true,
      "authorship_tag": "ABX9TyNAKVA7oUK7bkHFko6jKOHo",
      "include_colab_link": true
    },
    "kernelspec": {
      "name": "python3",
      "display_name": "Python 3"
    },
    "language_info": {
      "name": "python"
    }
  },
  "cells": [
    {
      "cell_type": "markdown",
      "metadata": {
        "id": "view-in-github",
        "colab_type": "text"
      },
      "source": [
        "<a href=\"https://colab.research.google.com/github/nikhilisaac/byte-xl-platinumbatch/blob/main/platinum_batch.ipynb\" target=\"_parent\"><img src=\"https://colab.research.google.com/assets/colab-badge.svg\" alt=\"Open In Colab\"/></a>"
      ]
    },
    {
      "cell_type": "markdown",
      "source": [
        "**sep** is used to modify the seperator in print function. default value=\" \"\n",
        "\n",
        "**end** is used to modify what is done at the end of the print function.default value is new line"
      ],
      "metadata": {
        "id": "wCXHlqcqXKTK"
      }
    },
    {
      "cell_type": "code",
      "execution_count": null,
      "metadata": {
        "id": "mvXKzm3WNa4R"
      },
      "outputs": [],
      "source": [
        "if __name__==\"__main__\":\n",
        "  s='hello world'\n",
        "  string=s.split(\" \")\n",
        "  print(string)\n",
        "  print(*string, sep='\\n')\n",
        "  #print(\"{0}\\n{1}\".format(string[0],string[1]))\n"
      ]
    },
    {
      "cell_type": "markdown",
      "source": [
        "\\ escape character may be used for ignoring keywords for the interpretor"
      ],
      "metadata": {
        "id": "lLs7WJ4IY_Bs"
      }
    },
    {
      "cell_type": "code",
      "source": [
        "if __name__==\"__main__\":\n",
        "  print(\"\\\"hai\\\"\",\"ok\")"
      ],
      "metadata": {
        "id": "hZWIUO0fPvog"
      },
      "execution_count": null,
      "outputs": []
    },
    {
      "cell_type": "markdown",
      "source": [
        "the variable in python are dynamic in nature\n",
        "\n",
        "the variable are actually objects of the class(datatype of the variable)\n",
        "\n",
        "HENCE PYTHON IS AN OBJECT ORIENTED LANGUAGE\n"
      ],
      "metadata": {
        "id": "VN5P9NIxbGzD"
      }
    },
    {
      "cell_type": "code",
      "source": [
        "a=10\n",
        "a='hello'\n",
        "print(type(a))"
      ],
      "metadata": {
        "id": "QDr-9ypUOVY3"
      },
      "execution_count": null,
      "outputs": []
    },
    {
      "cell_type": "code",
      "source": [
        "a=int(input())\n",
        "flag=0\n",
        "while(a>1):\n",
        "  remainder=a%6\n",
        "  a=a/6\n",
        "  if remainder!=0:\n",
        "    flag=-1\n",
        "    break;\n",
        "if flag==-1:\n",
        "  print(\"False\")\n",
        "elif flag==0:\n",
        "  print(\"True\")\n"
      ],
      "metadata": {
        "id": "VSYD5gcYcVwb"
      },
      "execution_count": null,
      "outputs": []
    },
    {
      "cell_type": "markdown",
      "source": [
        "(n-1)!=n!/n\n",
        "\n",
        "\n",
        "\n",
        "\n"
      ],
      "metadata": {
        "id": "Qk_X9ji-l5Ld"
      }
    },
    {
      "cell_type": "code",
      "source": [
        "num1=int(input())\n",
        "num2=int(input())\n",
        "num2,num1=num1,num2\n",
        "print(num1,num2,sep=\"\\n\")"
      ],
      "metadata": {
        "id": "vsUPg5HddOBc"
      },
      "execution_count": null,
      "outputs": []
    },
    {
      "cell_type": "code",
      "source": [
        "abc=54\n",
        "print(abc)\n",
        "del abc\n",
        "print(abc)"
      ],
      "metadata": {
        "id": "PCNhghSrTSrr"
      },
      "execution_count": null,
      "outputs": []
    },
    {
      "cell_type": "markdown",
      "source": [
        "**data types in python**\n",
        "\n",
        "numeric\n",
        "\n",
        "text\n",
        "\n",
        "sequence \n",
        "\n",
        "mapping\n",
        "\n",
        "set \n",
        "\n",
        "booleean \n",
        "\n",
        "binary\n",
        "\n",
        "\n",
        "\n",
        "\n",
        "\n"
      ],
      "metadata": {
        "id": "Q7ruy3nOTsqk"
      }
    },
    {
      "cell_type": "markdown",
      "source": [
        "use 0x prefix for hexadecimal system\n",
        "\n",
        "use 0o prefix for octal number system"
      ],
      "metadata": {
        "id": "96j44lgUYIzB"
      }
    },
    {
      "cell_type": "code",
      "source": [
        "numint=0o45\n",
        "print(numint)"
      ],
      "metadata": {
        "id": "HcXfDuqbUMq7"
      },
      "execution_count": null,
      "outputs": []
    },
    {
      "cell_type": "code",
      "source": [
        "print(0x2F6C)\n",
        "print()"
      ],
      "metadata": {
        "colab": {
          "base_uri": "https://localhost:8080/"
        },
        "id": "ij4R05IeYBKa",
        "outputId": "986fbc00-e2ba-4602-cfce-6b89d8e0107e"
      },
      "execution_count": null,
      "outputs": [
        {
          "output_type": "stream",
          "name": "stdout",
          "text": [
            "12140\n",
            "\n"
          ]
        }
      ]
    },
    {
      "cell_type": "code",
      "source": [
        "strVar='hello bsdk'\n",
        "strVar='hello loid forger'\n",
        "print(strVar)\n"
      ],
      "metadata": {
        "colab": {
          "base_uri": "https://localhost:8080/"
        },
        "id": "MbJJYFpFbUQ5",
        "outputId": "d5f837e3-f45a-40df-daff-0d46a550dcf0"
      },
      "execution_count": null,
      "outputs": [
        {
          "output_type": "stream",
          "name": "stdout",
          "text": [
            "hello loid forger\n"
          ]
        }
      ]
    },
    {
      "cell_type": "code",
      "source": [
        "\n",
        "a= list(map(str,input().split()))\n",
        "print(a)\n"
      ],
      "metadata": {
        "id": "L1kxPIPFh9G3"
      },
      "execution_count": null,
      "outputs": []
    },
    {
      "cell_type": "code",
      "source": [
        "a,b,c,d=map(int,input().split())\n",
        "print(a)\n",
        "print(b)\n",
        "print(c)\n",
        "print(d)\n"
      ],
      "metadata": {
        "colab": {
          "base_uri": "https://localhost:8080/"
        },
        "id": "G5NOf49Hj2VW",
        "outputId": "c3f3501a-bbf4-484a-b2d5-dbe6d413ea5b"
      },
      "execution_count": null,
      "outputs": [
        {
          "output_type": "stream",
          "name": "stdout",
          "text": [
            "1 2 3 4\n",
            "1\n",
            "2\n",
            "3\n",
            "4\n"
          ]
        }
      ]
    },
    {
      "cell_type": "code",
      "source": [
        "a=input().split(\",\")\n",
        "print(a)"
      ],
      "metadata": {
        "id": "T0Az1IPAlEK3"
      },
      "execution_count": null,
      "outputs": []
    },
    {
      "cell_type": "code",
      "source": [
        "tc=int(input())\n",
        "a=[]\n",
        "for i in range(tc):\n",
        "  a.append(int(input()))\n",
        "print(type(a),a)\n"
      ],
      "metadata": {
        "colab": {
          "base_uri": "https://localhost:8080/"
        },
        "id": "SDlKMLsEnd_-",
        "outputId": "b2d952b3-ec66-4af5-a357-75a59c46899b"
      },
      "execution_count": null,
      "outputs": [
        {
          "output_type": "stream",
          "name": "stdout",
          "text": [
            "5\n",
            "96\n",
            "654\n",
            "65\n",
            "43\n",
            "65\n",
            "<class 'list'> [96, 654, 65, 43, 65]\n"
          ]
        }
      ]
    },
    {
      "cell_type": "code",
      "source": [
        "a=list(map(int,input().split()))\n",
        "print(a)\n",
        "print(*a)"
      ],
      "metadata": {
        "colab": {
          "base_uri": "https://localhost:8080/"
        },
        "id": "AU-77iMxrpQd",
        "outputId": "7b62c8f9-0bda-4b8a-aada-84267dbe1def"
      },
      "execution_count": null,
      "outputs": [
        {
          "output_type": "stream",
          "name": "stdout",
          "text": [
            "1 2 3 4 5 6\n",
            "[1, 2, 3, 4, 5, 6]\n",
            "1 2 3 4 5 6\n"
          ]
        }
      ]
    }
  ]
}