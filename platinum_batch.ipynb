{
  "nbformat": 4,
  "nbformat_minor": 0,
  "metadata": {
    "colab": {
      "provenance": [],
      "collapsed_sections": [],
      "authorship_tag": "ABX9TyPuFRgxKbplDrEQZergWdWj",
      "include_colab_link": true
    },
    "kernelspec": {
      "name": "python3",
      "display_name": "Python 3"
    },
    "language_info": {
      "name": "python"
    }
  },
  "cells": [
    {
      "cell_type": "markdown",
      "metadata": {
        "id": "view-in-github",
        "colab_type": "text"
      },
      "source": [
        "<a href=\"https://colab.research.google.com/github/nikhilisaac/byte-xl-platinumbatch/blob/main/platinum_batch.ipynb\" target=\"_parent\"><img src=\"https://colab.research.google.com/assets/colab-badge.svg\" alt=\"Open In Colab\"/></a>"
      ]
    },
    {
      "cell_type": "markdown",
      "source": [
        "**sep** is used to modify the seperator in print function. default value=\" \"\n",
        "\n",
        "**end** is used to modify what is done at the end of the print function.default value is new line"
      ],
      "metadata": {
        "id": "wCXHlqcqXKTK"
      }
    },
    {
      "cell_type": "code",
      "execution_count": null,
      "metadata": {
        "id": "mvXKzm3WNa4R"
      },
      "outputs": [],
      "source": [
        "if __name__==\"__main__\":\n",
        "  s='hello world'\n",
        "  string=s.split(\" \")\n",
        "  print(string)\n",
        "  print(*string, sep='\\n')\n",
        "  #print(\"{0}\\n{1}\".format(string[0],string[1]))\n"
      ]
    },
    {
      "cell_type": "markdown",
      "source": [
        "\\ escape character may be used for ignoring keywords for the interpretor"
      ],
      "metadata": {
        "id": "lLs7WJ4IY_Bs"
      }
    },
    {
      "cell_type": "code",
      "source": [
        "if __name__==\"__main__\":\n",
        "  print(\"\\\"hai\\\"\",\"ok\")"
      ],
      "metadata": {
        "id": "hZWIUO0fPvog",
        "colab": {
          "base_uri": "https://localhost:8080/"
        },
        "outputId": "b199597b-c580-42aa-a0d9-826781fb43a5"
      },
      "execution_count": null,
      "outputs": [
        {
          "output_type": "stream",
          "name": "stdout",
          "text": [
            "\"hai\" ok\n"
          ]
        }
      ]
    },
    {
      "cell_type": "markdown",
      "source": [
        "the variable in python are dynamic in nature\n",
        "\n",
        "the variable are actually objects of the class(datatype of the variable)\n",
        "\n",
        "HENCE PYTHON IS AN OBJECT ORIENTED LANGUAGE\n"
      ],
      "metadata": {
        "id": "VN5P9NIxbGzD"
      }
    },
    {
      "cell_type": "code",
      "source": [
        "a=10\n",
        "a='hello'\n",
        "print(type(a))"
      ],
      "metadata": {
        "id": "QDr-9ypUOVY3"
      },
      "execution_count": null,
      "outputs": []
    },
    {
      "cell_type": "code",
      "source": [
        "a=int(input())\n",
        "flag=0\n",
        "while(a>1):\n",
        "  remainder=a%6\n",
        "  a=a/6\n",
        "  if remainder!=0:\n",
        "    flag=-1\n",
        "    break;\n",
        "if flag==-1:\n",
        "  print(\"False\")\n",
        "elif flag==0:\n",
        "  print(\"True\")\n"
      ],
      "metadata": {
        "id": "VSYD5gcYcVwb"
      },
      "execution_count": null,
      "outputs": []
    },
    {
      "cell_type": "markdown",
      "source": [
        "(n-1)!=n!/n\n",
        "\n",
        "\n",
        "\n",
        "\n"
      ],
      "metadata": {
        "id": "Qk_X9ji-l5Ld"
      }
    },
    {
      "cell_type": "code",
      "source": [
        "num1=int(input())\n",
        "num2=int(input())\n",
        "num2,num1=num1,num2\n",
        "print(num1,num2,sep=\"\\n\")"
      ],
      "metadata": {
        "id": "vsUPg5HddOBc"
      },
      "execution_count": null,
      "outputs": []
    },
    {
      "cell_type": "code",
      "source": [
        "abc=54\n",
        "print(abc)\n",
        "del abc\n",
        "print(abc)"
      ],
      "metadata": {
        "id": "PCNhghSrTSrr"
      },
      "execution_count": null,
      "outputs": []
    },
    {
      "cell_type": "markdown",
      "source": [
        "**data types in python**\n",
        "\n",
        "numeric\n",
        "\n",
        "text\n",
        "\n",
        "sequence \n",
        "\n",
        "mapping\n",
        "\n",
        "set \n",
        "\n",
        "booleean \n",
        "\n",
        "binary\n",
        "\n",
        "\n",
        "\n",
        "\n",
        "\n"
      ],
      "metadata": {
        "id": "Q7ruy3nOTsqk"
      }
    },
    {
      "cell_type": "markdown",
      "source": [
        "use 0x prefix for hexadecimal system\n",
        "\n",
        "use 0o prefix for octal number system"
      ],
      "metadata": {
        "id": "96j44lgUYIzB"
      }
    },
    {
      "cell_type": "code",
      "source": [
        "numint=0o45\n",
        "print(numint)"
      ],
      "metadata": {
        "id": "HcXfDuqbUMq7"
      },
      "execution_count": null,
      "outputs": []
    },
    {
      "cell_type": "code",
      "source": [
        "print(0x2F6C)\n",
        "print()"
      ],
      "metadata": {
        "id": "ij4R05IeYBKa"
      },
      "execution_count": null,
      "outputs": []
    },
    {
      "cell_type": "code",
      "source": [
        "strVar='hello bsdk'\n",
        "strVar='hello loid forger'\n",
        "print(strVar)\n"
      ],
      "metadata": {
        "id": "MbJJYFpFbUQ5"
      },
      "execution_count": null,
      "outputs": []
    },
    {
      "cell_type": "code",
      "source": [
        "\n",
        "a= list(map(str,input().split()))\n",
        "print(a)\n"
      ],
      "metadata": {
        "id": "L1kxPIPFh9G3"
      },
      "execution_count": null,
      "outputs": []
    },
    {
      "cell_type": "code",
      "source": [
        "a,b,c,d=map(int,input().split())\n",
        "print(a)\n",
        "print(b)\n",
        "print(c)\n",
        "print(d)\n"
      ],
      "metadata": {
        "id": "G5NOf49Hj2VW"
      },
      "execution_count": null,
      "outputs": []
    },
    {
      "cell_type": "code",
      "source": [
        "a=input().split(\",\")\n",
        "print(a)"
      ],
      "metadata": {
        "id": "T0Az1IPAlEK3"
      },
      "execution_count": null,
      "outputs": []
    },
    {
      "cell_type": "code",
      "source": [
        "tc=int(input())\n",
        "a=[]\n",
        "for i in range(tc):\n",
        "  a.append(int(input()))\n",
        "print(type(a),a)\n"
      ],
      "metadata": {
        "id": "SDlKMLsEnd_-"
      },
      "execution_count": null,
      "outputs": []
    },
    {
      "cell_type": "code",
      "source": [
        "a=list(map(int,input().split()))\n",
        "print(a)\n",
        "print(*a)"
      ],
      "metadata": {
        "id": "AU-77iMxrpQd"
      },
      "execution_count": null,
      "outputs": []
    },
    {
      "cell_type": "code",
      "source": [
        "a=tuple(input().split())\n",
        "print(a)\n"
      ],
      "metadata": {
        "id": "3S8coebHxczy"
      },
      "execution_count": null,
      "outputs": []
    },
    {
      "cell_type": "code",
      "source": [
        "l=[1,[1,2,3,4],2,3,4,5,6,'abc',True,10+0j]\n",
        "print(l[-5])\n",
        "print(l[1:7])"
      ],
      "metadata": {
        "id": "UZ5z0h2yzlcK"
      },
      "execution_count": null,
      "outputs": []
    },
    {
      "cell_type": "code",
      "source": [
        "from logging import exception\n",
        "num1 ,num2= int(input()), int(input())\n",
        "opch=input()\n",
        "calci={'+':num1 + num1, '-':num1 - num2, '*':num1 * num2, '/':num1 / num2,}\n",
        "if opch in calci.keys():\n",
        "  print(calci[opch])\n",
        "else:\n",
        "  print(\"invalid key\")\n"
      ],
      "metadata": {
        "id": "ruW8Fy2hRxax",
        "colab": {
          "base_uri": "https://localhost:8080/"
        },
        "outputId": "7b68bdd8-c248-4999-d0dd-a7ab4504ada3"
      },
      "execution_count": null,
      "outputs": [
        {
          "output_type": "stream",
          "name": "stdout",
          "text": [
            "120\n",
            "120\n",
            "//\n",
            "invalid key\n"
          ]
        }
      ]
    },
    {
      "cell_type": "code",
      "source": [
        "a=3\n",
        "b=12\n",
        "print(a|b)\n",
        "print(a&b)"
      ],
      "metadata": {
        "colab": {
          "base_uri": "https://localhost:8080/"
        },
        "id": "L4ANHVAbYsEk",
        "outputId": "139c3afb-dda0-4da9-97a7-769b08530795"
      },
      "execution_count": null,
      "outputs": [
        {
          "output_type": "stream",
          "name": "stdout",
          "text": [
            "15\n",
            "0\n"
          ]
        }
      ]
    },
    {
      "cell_type": "code",
      "source": [
        "i=0\n",
        "while(i<12):\n",
        "  print(i,end=\" \")\n",
        "  i+=1"
      ],
      "metadata": {
        "colab": {
          "base_uri": "https://localhost:8080/"
        },
        "id": "HTdqgwuBcTVw",
        "outputId": "26881cc8-1168-4273-bd8b-f9c14c089b02"
      },
      "execution_count": null,
      "outputs": [
        {
          "output_type": "stream",
          "name": "stdout",
          "text": [
            "0 1 2 3 4 5 6 7 8 9 10 11 "
          ]
        }
      ]
    },
    {
      "cell_type": "code",
      "source": [
        "num =541\n",
        "if "
      ],
      "metadata": {
        "id": "K6xRwZ1JevRP"
      },
      "execution_count": null,
      "outputs": []
    },
    {
      "cell_type": "markdown",
      "source": [
        " \n",
        "\n",
        "\n",
        "\n",
        "# CHECK PRIME NUMBER"
      ],
      "metadata": {
        "id": "QNcDFSYMkzKy"
      }
    },
    {
      "cell_type": "code",
      "source": [
        "from math import sqrt\n",
        "flag=0\n",
        "num =int(input())\n",
        "for i in range(2,int(sqrt(num))+1):\n",
        "  if num%i==0:\n",
        "    flag=-1\n",
        "    break;\n",
        "  \n",
        "if flag==-1:\n",
        "  print(\"not prime\")\n",
        "else:\n",
        "  print(\"prime\")\n",
        "\n"
      ],
      "metadata": {
        "colab": {
          "base_uri": "https://localhost:8080/"
        },
        "id": "wvAD6M5ZfzwW",
        "outputId": "392a1881-4cd2-48ca-86c9-b1a252555b8f"
      },
      "execution_count": null,
      "outputs": [
        {
          "output_type": "stream",
          "name": "stdout",
          "text": [
            "17\n",
            "prime\n"
          ]
        }
      ]
    },
    {
      "cell_type": "markdown",
      "source": [
        "# pattern matching"
      ],
      "metadata": {
        "id": "k0h_zUONS79R"
      }
    },
    {
      "cell_type": "code",
      "source": [
        "n=int(input())\n",
        "for i in range(0,n+1):\n",
        "  for j in range(1,i+1):\n",
        "    print(j,end='')\n",
        "  print(\" \")\n",
        "\n",
        "\n",
        "  "
      ],
      "metadata": {
        "colab": {
          "base_uri": "https://localhost:8080/"
        },
        "id": "_XuGlIVHnOXo",
        "outputId": "5fd0f61a-27ef-4545-dc96-97ecb97998ee"
      },
      "execution_count": null,
      "outputs": [
        {
          "output_type": "stream",
          "name": "stdout",
          "text": [
            "5\n",
            " \n",
            "1 \n",
            "12 \n",
            "123 \n",
            "1234 \n",
            "12345 \n"
          ]
        }
      ]
    },
    {
      "cell_type": "code",
      "source": [
        "n=int(input())\n",
        "for i in range(0,n+1):\n",
        "  for k in range(0,n-i):\n",
        "    print(\" \",end=\"\")\n",
        "  for j in range(1,i+1):\n",
        "    print(j,end='')\n",
        "  print(\" \")\n",
        "\n"
      ],
      "metadata": {
        "id": "ywYaYRvWoUXP",
        "colab": {
          "base_uri": "https://localhost:8080/"
        },
        "outputId": "9f2e4dde-04fd-43a2-b444-9c7fe2423fc9"
      },
      "execution_count": null,
      "outputs": [
        {
          "output_type": "stream",
          "name": "stdout",
          "text": [
            "5\n",
            "      \n",
            "    1 \n",
            "   12 \n",
            "  123 \n",
            " 1234 \n",
            "12345 \n"
          ]
        }
      ]
    },
    {
      "cell_type": "code",
      "source": [
        "n=int(input())\n",
        "alpha=['a', 'b', 'c', 'd', 'e', 'f', 'g', 'h', 'i', 'j', 'k', 'l', 'm', 'n', 'o', 'p', 'q', 'r', 's', 't', 'u', 'v', 'w', 'x', 'y', 'z']\n",
        "for i in range(0,n+1):\n",
        "  for k in range(0,n-i):\n",
        "    print(\" \",end=\"\")\n",
        "  for j in range(0,i+1):\n",
        "    print(chr(65+i),end='')\n",
        "  print(\" \")\n",
        "  \n"
      ],
      "metadata": {
        "colab": {
          "base_uri": "https://localhost:8080/"
        },
        "id": "1oG14rYKQxtJ",
        "outputId": "aed3d18f-58f7-4172-a96c-888c0441f261"
      },
      "execution_count": null,
      "outputs": [
        {
          "output_type": "stream",
          "name": "stdout",
          "text": [
            "5\n",
            "     A \n",
            "    BB \n",
            "   CCC \n",
            "  DDDD \n",
            " EEEEE \n",
            "FFFFFF \n"
          ]
        }
      ]
    },
    {
      "cell_type": "code",
      "source": [
        "n=int(input())\n",
        "alpha=['a', 'b', 'c', 'd', 'e', 'f', 'g', 'h', 'i', 'j', 'k', 'l', 'm', 'n', 'o', 'p', 'q', 'r', 's', 't', 'u', 'v', 'w', 'x', 'y', 'z']\n",
        "for i in range(0,n+1):\n",
        "  for k in range(0,n-i):\n",
        "    print(\" \",end=\"\")\n",
        "  for j in range(0,i+1):\n",
        "    print(chr(65+j),end='')\n",
        "  print(\" \")"
      ],
      "metadata": {
        "colab": {
          "base_uri": "https://localhost:8080/"
        },
        "id": "L7R7wEIFTk_6",
        "outputId": "ca46fce6-4693-45a6-eb79-77a5cc0c8f6d"
      },
      "execution_count": null,
      "outputs": [
        {
          "output_type": "stream",
          "name": "stdout",
          "text": [
            "5\n",
            "     A \n",
            "    AB \n",
            "   ABC \n",
            "  ABCD \n",
            " ABCDE \n",
            "ABCDEF \n"
          ]
        }
      ]
    },
    {
      "cell_type": "code",
      "source": [
        "n=int(input())\n",
        "for i in range(0,n+1):\n",
        "  for k in range(0,n-i):\n",
        "    print(\" \",end=\"\")\n",
        "  for j in range(1,i+1):\n",
        "    print(j,end='')\n",
        "  for j in range(1,i):\n",
        "    print(i-j,end='')\n",
        "  print(\" \")"
      ],
      "metadata": {
        "colab": {
          "base_uri": "https://localhost:8080/"
        },
        "id": "ijz7mvLHSIow",
        "outputId": "f528eefa-7f29-4459-ff3b-d7e2486f909b"
      },
      "execution_count": null,
      "outputs": [
        {
          "output_type": "stream",
          "name": "stdout",
          "text": [
            "5\n",
            "      \n",
            "    1 \n",
            "   121 \n",
            "  12321 \n",
            " 1234321 \n",
            "123454321 \n"
          ]
        }
      ]
    },
    {
      "cell_type": "code",
      "source": [
        "n=int(input())\n",
        "for i in range(0,n+1):\n",
        "  for k in range(0,n-i):\n",
        "    print(\"*\",end=\"\")\n",
        "  for j in range(1,i+1):\n",
        "    print(\" \",end='')\n",
        "  for j in range(1,i):\n",
        "    print(\"*\",end='')\n",
        "  print(\" \")"
      ],
      "metadata": {
        "colab": {
          "base_uri": "https://localhost:8080/"
        },
        "id": "KlDqeKo4XiLi",
        "outputId": "b5edc528-781d-4221-c49d-92bfc8107d92"
      },
      "execution_count": null,
      "outputs": [
        {
          "output_type": "stream",
          "name": "stdout",
          "text": [
            "5\n",
            "***** \n",
            "****  \n",
            "***  * \n",
            "**   ** \n",
            "*    *** \n",
            "     **** \n"
          ]
        }
      ]
    },
    {
      "cell_type": "markdown",
      "source": [
        "# FUNCTIONS"
      ],
      "metadata": {
        "id": "01U6MwGrYSQd"
      }
    },
    {
      "cell_type": "code",
      "source": [
        "def foo(var):\n",
        "  st=66\n",
        "  print(st)\n",
        "st=89\n",
        "foo(st)\n",
        "print(st)"
      ],
      "metadata": {
        "colab": {
          "base_uri": "https://localhost:8080/"
        },
        "id": "fhsXAqbZYWfM",
        "outputId": "fcb76320-eda7-4d5c-e99c-3d1d50a048f8"
      },
      "execution_count": null,
      "outputs": [
        {
          "output_type": "stream",
          "name": "stdout",
          "text": [
            "66\n",
            "89\n"
          ]
        }
      ]
    },
    {
      "cell_type": "code",
      "source": [
        "def store(cust,ph,city):\n",
        "  print(\"CUSTOMER:\",cust)\n",
        "  print(\"MOBILE NO:\",ph)\n",
        "  print(\"CITY:\",city)\n",
        "\n",
        "store(city='Nagpur',cust='Nikhil',ph=8830481411)\n"
      ],
      "metadata": {
        "id": "y6LOmS-NicxG",
        "colab": {
          "base_uri": "https://localhost:8080/"
        },
        "outputId": "92d0163c-2c9b-4234-f52e-2098f891182f"
      },
      "execution_count": null,
      "outputs": [
        {
          "output_type": "stream",
          "name": "stdout",
          "text": [
            "CUSTOMER: Nikhil\n",
            "MOBILE NO: 8830481411\n",
            "CITY: Nagpur\n"
          ]
        }
      ]
    },
    {
      "cell_type": "code",
      "source": [
        "def fun(a,b):\n",
        "  if ((4-a)>(a-b) and a<4):\n",
        "    a=3+2+a\n",
        "    a=3+1+a\n",
        "    a=1+3+b\n",
        "    return a+ fun(a,b)+fun(a,a)\n",
        "  return a+b\n",
        "print(fun(0,0))"
      ],
      "metadata": {
        "colab": {
          "base_uri": "https://localhost:8080/"
        },
        "id": "9ejDkqqKnoIl",
        "outputId": "0e5f59e2-46d3-4642-debe-fd3b43fc6e98"
      },
      "execution_count": null,
      "outputs": [
        {
          "output_type": "stream",
          "name": "stdout",
          "text": [
            "16\n"
          ]
        }
      ]
    },
    {
      "cell_type": "markdown",
      "source": [
        "# Lists"
      ],
      "metadata": {
        "id": "JdEO4sEesakE"
      }
    },
    {
      "cell_type": "code",
      "source": [
        "list=[1,2,3,4,5,6]\n",
        "list.extend([\"hi\",\"hiiiii\",\"hello\"])\n",
        "print(list)"
      ],
      "metadata": {
        "colab": {
          "base_uri": "https://localhost:8080/"
        },
        "id": "K0mgITAVullb",
        "outputId": "df310c8d-e757-4597-c215-715873069377"
      },
      "execution_count": null,
      "outputs": [
        {
          "output_type": "stream",
          "name": "stdout",
          "text": [
            "[1, 2, 3, 4, 5, 6, 'hi', 'hiiiii', 'hello']\n"
          ]
        }
      ]
    },
    {
      "cell_type": "code",
      "source": [
        "nlist=[1,2,3,4,5,6,7,8,9,10]         \n",
        "r=nlist.pop(2) # Will remove the element atr the specified index\n",
        "print(nlist)\n",
        "nlist.clear()  # Will clear the lsit not delete. The list still exists\n",
        "nlist.remove() # Will remove the specified element (!!! not the index)\n"
      ],
      "metadata": {
        "colab": {
          "base_uri": "https://localhost:8080/"
        },
        "id": "aXjBpsruvVrk",
        "outputId": "a3f62929-a603-4b92-f5b0-661cd476eacf"
      },
      "execution_count": null,
      "outputs": [
        {
          "output_type": "stream",
          "name": "stdout",
          "text": [
            "[1, 2, 4, 5, 6, 7, 8, 9, 10]\n"
          ]
        }
      ]
    },
    {
      "cell_type": "code",
      "source": [
        "numlist=[1,'hai',2,'ok',5,'hai',6,7,'hai']\n",
        "count=numlist.count('hai')\n",
        "temp=0\n",
        "if count%2==0:\n",
        "  param=count//2\n",
        "else:\n",
        "  param=(count//2)+1\n",
        "for i in range(param):\n",
        "  temp=numlist.index('hai',temp+1,len(numlist))\n",
        "\n",
        "print(temp)\n",
        "  \n"
      ],
      "metadata": {
        "colab": {
          "base_uri": "https://localhost:8080/"
        },
        "id": "GBg0NAqsxce0",
        "outputId": "a1fa16bf-1601-4898-a6a5-051ca7f0d760"
      },
      "execution_count": null,
      "outputs": [
        {
          "output_type": "stream",
          "name": "stdout",
          "text": [
            "5\n"
          ]
        }
      ]
    },
    {
      "cell_type": "code",
      "source": [
        "list=[1,4,9,10,11,13,15]\n",
        "\n"
      ],
      "metadata": {
        "id": "aLEBPx2m3G7D"
      },
      "execution_count": null,
      "outputs": []
    },
    {
      "cell_type": "code",
      "source": [
        "list1=[1,3]\n",
        "list2=[2,4]\n",
        "result=list1+list2\n",
        "result=sorted(result)\n",
        "print(result)"
      ],
      "metadata": {
        "colab": {
          "base_uri": "https://localhost:8080/"
        },
        "id": "edmJ-bxiD_dz",
        "outputId": "ee2f404f-9f1c-4baf-c40f-0cdc956cc25f"
      },
      "execution_count": null,
      "outputs": [
        {
          "output_type": "stream",
          "name": "stdout",
          "text": [
            "[1, 2, 3, 4]\n"
          ]
        }
      ]
    },
    {
      "cell_type": "code",
      "source": [
        "list=input().split(\" \")\n"
      ],
      "metadata": {
        "id": "KeP_aaGWFbEq"
      },
      "execution_count": null,
      "outputs": []
    },
    {
      "cell_type": "code",
      "source": [
        "numtuple=tuple(input().split(\" \"))\n",
        "i=int(input())\n",
        "print(numtuple[:i]+numtuple[i+1:])"
      ],
      "metadata": {
        "colab": {
          "base_uri": "https://localhost:8080/"
        },
        "id": "zFgwB-4aprHI",
        "outputId": "95f798ad-257e-44da-d5c9-dafdfbb8056e"
      },
      "execution_count": null,
      "outputs": [
        {
          "output_type": "stream",
          "name": "stdout",
          "text": [
            "1 2 3 4 5 6\n",
            "2\n",
            "('1', '2', '4', '5', '6')\n"
          ]
        }
      ]
    },
    {
      "cell_type": "code",
      "source": [
        "tup=tuple(input().split())\n",
        "newtup=[]\n",
        "counter=0\n",
        "for i in tup:\n",
        "  if i not in newtup:\n",
        "    newtup.append(i)\n",
        "  else:\n",
        "    counter+=1\n",
        "\n",
        "if counter!=0:\n",
        "  print(counter+1)\n",
        "else:\n",
        "  print(\"0\")\n",
        "\n"
      ],
      "metadata": {
        "colab": {
          "base_uri": "https://localhost:8080/"
        },
        "id": "DVK3-9YXsKai",
        "outputId": "28b2ac96-4634-47d8-b6b9-9646fd8c2eef"
      },
      "execution_count": null,
      "outputs": [
        {
          "output_type": "stream",
          "name": "stdout",
          "text": [
            "1 2 3 4 5 6\n",
            "0\n"
          ]
        }
      ]
    },
    {
      "cell_type": "code",
      "source": [
        "list1=[1,2,3,4,(1,2,3,4),4,5]\n",
        "counter=0;\n",
        "for i in list1:\n",
        "  try:\n",
        "    i=i/2;\n",
        "    counter+=1;\n",
        "  except:\n",
        "    print(counter);"
      ],
      "metadata": {
        "colab": {
          "base_uri": "https://localhost:8080/"
        },
        "id": "7xKPu89uwklC",
        "outputId": "1a94187b-e8fd-4e32-b14f-b87a4232cf7d"
      },
      "execution_count": null,
      "outputs": [
        {
          "output_type": "stream",
          "name": "stdout",
          "text": [
            "4\n"
          ]
        }
      ]
    },
    {
      "cell_type": "code",
      "source": [
        "list1=[1,2,3,4,(1,2,3,4),4,5]\n",
        "counter=0;\n",
        "for i in list1:\n",
        "  if isinstance(i,tuple):\n",
        "    break;\n",
        "  counter+=1;\n",
        "print(counter)"
      ],
      "metadata": {
        "colab": {
          "base_uri": "https://localhost:8080/"
        },
        "id": "xZNw8yITyZfD",
        "outputId": "35be7d61-aaa4-4e8f-b0c6-de1e6d161720"
      },
      "execution_count": null,
      "outputs": [
        {
          "output_type": "stream",
          "name": "stdout",
          "text": [
            "4\n"
          ]
        }
      ]
    },
    {
      "cell_type": "code",
      "source": [
        "list1=[(),(1,2,3),(1)]\n",
        "list2=filter(None,list1)\n",
        "print(list2)"
      ],
      "metadata": {
        "id": "1tlYtVHwzgDU"
      },
      "execution_count": null,
      "outputs": []
    },
    {
      "cell_type": "code",
      "source": [
        "from math import sqrt\n",
        "n=int(input())\n",
        "primelist=[]\n",
        "res=0\n",
        "sum=0\n",
        "\n",
        "def checkprime(num):\n",
        "  flag=0\n",
        "  for i in range(2,int(sqrt(num))+1):\n",
        "    if num%i==0:\n",
        "      flag=-1\n",
        "      break;\n",
        "  return flag\n",
        "\n",
        "\n",
        "for i in range(1,n):\n",
        "  if checkprime(i)!=-1:\n",
        "    primelist.append(i)\n",
        "print(primelist)\n",
        "for i in range(len(primelist)):\n",
        "  for j in range(i,len(primelist)):\n",
        "    sum+=primelist[j];\n",
        "    if sum in primelist:\n",
        "      res+=1;\n",
        "      break;\n",
        "\n",
        "\n",
        "print(res)"
      ],
      "metadata": {
        "colab": {
          "base_uri": "https://localhost:8080/"
        },
        "id": "ssatT3hE-RKB",
        "outputId": "b87e0172-6c14-4591-bd9b-4779c2526015"
      },
      "execution_count": null,
      "outputs": [
        {
          "output_type": "stream",
          "name": "stdout",
          "text": [
            "20\n",
            "[1, 2, 3, 5, 7, 11, 13, 17, 19]\n",
            "3\n"
          ]
        }
      ]
    },
    {
      "cell_type": "code",
      "source": [
        "set1={1,2,3,434,534,654,6}"
      ],
      "metadata": {
        "id": "3aGsyzmST2Ez"
      },
      "execution_count": null,
      "outputs": []
    },
    {
      "cell_type": "code",
      "source": [
        "n=int(input())\n",
        "set1=[]\n",
        "fact=1\n",
        "for i in range(1,n+1):\n",
        "  for j in range(1,i+1):\n",
        "    fact=fact*i\n",
        "  set1.append(fact)\n",
        "print(set(set1))\n"
      ],
      "metadata": {
        "colab": {
          "base_uri": "https://localhost:8080/"
        },
        "id": "3uX57t4Kb8To",
        "outputId": "387254f3-2e55-4f61-d25f-5715e1d71425"
      },
      "execution_count": null,
      "outputs": [
        {
          "output_type": "stream",
          "name": "stdout",
          "text": [
            "5\n",
            "{86400000, 1, 27648, 4, 108}\n"
          ]
        }
      ]
    },
    {
      "cell_type": "code",
      "source": [
        "set1=set(input().split(\",\"))\n",
        "set2=set(input().split(\",\"))\n",
        "print(set1.difference(set2))"
      ],
      "metadata": {
        "colab": {
          "base_uri": "https://localhost:8080/"
        },
        "id": "9OhyxgmGlHqX",
        "outputId": "d19ae0d7-7468-42c8-816a-cdf737ee4934"
      },
      "execution_count": null,
      "outputs": [
        {
          "output_type": "stream",
          "name": "stdout",
          "text": [
            "hai,1,2,3\n",
            "1,2\n",
            "{'3', 'hai'}\n"
          ]
        }
      ]
    },
    {
      "cell_type": "code",
      "source": [
        "n=int(input())\n",
        "dict1={}\n",
        "for i in range(n):\n",
        "  dict1[i]=int(input())\n",
        "print(dict1)"
      ],
      "metadata": {
        "colab": {
          "base_uri": "https://localhost:8080/"
        },
        "id": "nX9bmICIsOe-",
        "outputId": "54b48f1b-bd70-4794-bd4e-6202cd739def"
      },
      "execution_count": null,
      "outputs": [
        {
          "output_type": "stream",
          "name": "stdout",
          "text": [
            "5\n",
            "1\n",
            "2\n",
            "3\n",
            "4\n",
            "5\n",
            "{0: 1, 1: 2, 2: 3, 3: 4, 4: 5}\n"
          ]
        }
      ]
    },
    {
      "cell_type": "code",
      "source": [
        "str1=\"Testing Sample\"\n",
        "print(str1.upper())\n",
        "print(str1.lower())\n",
        "print(str1.swapcase())"
      ],
      "metadata": {
        "id": "Q4arOhb8saFx",
        "colab": {
          "base_uri": "https://localhost:8080/"
        },
        "outputId": "89cefd80-ff42-433a-8ae1-afbbff40070e"
      },
      "execution_count": null,
      "outputs": [
        {
          "output_type": "stream",
          "name": "stdout",
          "text": [
            "TESTING SAMPLE\n",
            "testing sample\n",
            "tESTING sAMPLE\n"
          ]
        }
      ]
    },
    {
      "cell_type": "code",
      "source": [
        "str5=\"Testing Samples\"\n",
        "print(str5.index(\"s\"))  #first occurence of the character\n",
        "print(str5.rindex(\"s\")) #last occurence of the character\n",
        "print(str5.count(\"s\"))  #count the number of occurences \n"
      ],
      "metadata": {
        "colab": {
          "base_uri": "https://localhost:8080/"
        },
        "id": "KI3ncwgNLbWt",
        "outputId": "b4c2028f-7863-4929-9faf-c54b625ae29e"
      },
      "execution_count": null,
      "outputs": [
        {
          "output_type": "stream",
          "name": "stdout",
          "text": [
            "2\n",
            "14\n",
            "2\n"
          ]
        }
      ]
    },
    {
      "cell_type": "code",
      "source": [
        "str6=\"my data for testing. try this. still testing\"\n",
        "str7=str6.split(\". \")\n",
        "print(str7)\n",
        "str8=[]\n",
        "for i in range(len(str7)):\n",
        "  str8.append(str7[i].capitalize())\n",
        "print(str8)\n",
        "print(*str8,sep=\". \")"
      ],
      "metadata": {
        "colab": {
          "base_uri": "https://localhost:8080/"
        },
        "id": "qByvfQfeWjJR",
        "outputId": "3e672065-9c25-4b4f-c9d2-30db94d99ae7"
      },
      "execution_count": null,
      "outputs": [
        {
          "output_type": "stream",
          "name": "stdout",
          "text": [
            "['my data for testing', 'try this', 'still testing']\n",
            "['My data for testing', 'Try this', 'Still testing']\n",
            "My data for testing. Try this. Still testing\n"
          ]
        }
      ]
    },
    {
      "cell_type": "code",
      "source": [
        "str4=\"hello world\"\n",
        "index=str4.rindex(\"l\")\n",
        "print(str4[:index]+str4[index+1:])\n"
      ],
      "metadata": {
        "colab": {
          "base_uri": "https://localhost:8080/"
        },
        "id": "Xv3eiiothJpK",
        "outputId": "d33f30ce-177a-4c98-875d-f8c7e53c56c0"
      },
      "execution_count": null,
      "outputs": [
        {
          "output_type": "stream",
          "name": "stdout",
          "text": [
            "hello word\n"
          ]
        }
      ]
    },
    {
      "cell_type": "code",
      "source": [
        "str1=\"aabcdefgaab\"\n",
        "str2=[]\n",
        "for i in range(len(str1)-1):\n",
        "  if str1[i]!=str1[i+1]:\n",
        "    str2.append(str1[i])\n",
        "str2.append(str1[i+1])   \n",
        "print(*str2,sep=\"\")"
      ],
      "metadata": {
        "colab": {
          "base_uri": "https://localhost:8080/"
        },
        "id": "GgTsk6FvkQNJ",
        "outputId": "342bfee1-8137-4512-a0f4-985b4d85e9e8"
      },
      "execution_count": null,
      "outputs": [
        {
          "output_type": "stream",
          "name": "stdout",
          "text": [
            "abcdefgab\n"
          ]
        }
      ]
    },
    {
      "cell_type": "code",
      "source": [
        "num=int(input())\n",
        "for i in range(num,0,-1):\n",
        "  print(i,end=' ')\n",
        "  for j in range(i,0,-2):\n",
        "    print(\"*\",end=\" \")\n",
        "  print()"
      ],
      "metadata": {
        "colab": {
          "base_uri": "https://localhost:8080/"
        },
        "id": "N0jTXswOrpJ7",
        "outputId": "59b70cdf-b1ea-47d7-94a8-1db018e7b5e6"
      },
      "execution_count": 8,
      "outputs": [
        {
          "output_type": "stream",
          "name": "stdout",
          "text": [
            "9\n",
            "9 * * * * * \n",
            "8 * * * * \n",
            "7 * * * * \n",
            "6 * * * \n",
            "5 * * * \n",
            "4 * * \n",
            "3 * * \n",
            "2 * \n",
            "1 * \n"
          ]
        }
      ]
    },
    {
      "cell_type": "code",
      "source": [
        "def func(num):\n",
        "  print(num,end=\" \")\n",
        "  for i in range(num):\n",
        "    print(\"*\",end=\" \")\n",
        "  print()\n",
        "  while (num!=0):\n",
        "    return func(num-1)\n",
        "\n",
        "num=int(input())\n",
        "func(num)"
      ],
      "metadata": {
        "colab": {
          "base_uri": "https://localhost:8080/"
        },
        "id": "WD1auGOjs-Wd",
        "outputId": "cdec0a8c-ce4a-4926-d9a4-f6f8802ff33c"
      },
      "execution_count": 12,
      "outputs": [
        {
          "output_type": "stream",
          "name": "stdout",
          "text": [
            "9\n",
            "9 * * * * * * * * * \n",
            "8 * * * * * * * * \n",
            "7 * * * * * * * \n",
            "6 * * * * * * \n",
            "5 * * * * * \n",
            "4 * * * * \n",
            "3 * * * \n",
            "2 * * \n",
            "1 * \n",
            "0 \n"
          ]
        }
      ]
    }
  ]
}